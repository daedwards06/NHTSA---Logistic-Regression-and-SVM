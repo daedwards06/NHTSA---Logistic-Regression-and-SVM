{
 "cells": [
  {
   "cell_type": "markdown",
   "metadata": {},
   "source": [
    "<center><h2><b>MINI - PROJECT </b></h2></center><center><h3><b>MSDS 6371 - 403</b></h3></center><center><h3><b>Data Mining</b></h3></center>"
   ]
  },
  {
   "cell_type": "markdown",
   "metadata": {},
   "source": [
    "<h4><b>Team Members:</b></h4>\n",
    "<ul>\n",
    "  <li>Lisa Mendez</li>\n",
    "  <li>Brandon Lawrence</li>\n",
    "  <li>Dominique Edwards</li>\n",
    "  <li>Mariana Llamas-Cendon</li>\n",
    "</ul>"
   ]
  },
  {
   "cell_type": "markdown",
   "metadata": {},
   "source": [
    "<h2><b><center> SVM and Logistic Regression Modeling</center></b></h2> \n",
    "\n"
   ]
  },
  {
   "cell_type": "markdown",
   "metadata": {},
   "source": [
    "<h3><b>[50 points]</b>\n",
    "\n",
    "<i>Create a logistic regression model and a support vector machine model for the\n",
    "classification task involved with your dataset. Assess how well each model performs (use\n",
    "80/20 training/testing split for your data).</i>\n",
    "<i><b>Adjust parameters of the models to make them\n",
    "more accurate.</b></i>\n",
    "\n",
    "<i>If your dataset size requires the use of stochastic gradient descent, then\n",
    "linear kernel only is fine to use. That is, the SGDClassifier is fine to use for optimizing logistic\n",
    "regression and linear support vector machines. For many problems, SGD will be required in\n",
    "order to train the SVM model in a reasonable timeframe.</i></h3> \n",
    "\n"
   ]
  },
  {
   "cell_type": "markdown",
   "metadata": {},
   "source": [
    "#### For this project we are using the cleaned version of the data set ('accident.xlsx') we have used for Project1, in which those attributes that we consider not useful for our analysis were already removed during Project1. "
   ]
  },
  {
   "cell_type": "code",
   "execution_count": 1,
   "metadata": {},
   "outputs": [],
   "source": [
    "import warnings\n",
    "warnings.filterwarnings(\"ignore\")\n",
    "\n",
    "from datetime import datetime\n",
    "\n",
    "import pandas as pd\n",
    "from pandas import DataFrame\n",
    "import numpy as np\n",
    "#import matplotlib as plt\n",
    "import matplotlib.pyplot as plt\n",
    "%matplotlib inline\n"
   ]
  },
  {
   "cell_type": "code",
   "execution_count": 2,
   "metadata": {
    "scrolled": true
   },
   "outputs": [
    {
     "data": {
      "text/html": [
       "<div>\n",
       "<style scoped>\n",
       "    .dataframe tbody tr th:only-of-type {\n",
       "        vertical-align: middle;\n",
       "    }\n",
       "\n",
       "    .dataframe tbody tr th {\n",
       "        vertical-align: top;\n",
       "    }\n",
       "\n",
       "    .dataframe thead th {\n",
       "        text-align: right;\n",
       "    }\n",
       "</style>\n",
       "<table border=\"1\" class=\"dataframe\">\n",
       "  <thead>\n",
       "    <tr style=\"text-align: right;\">\n",
       "      <th></th>\n",
       "      <th>STATE</th>\n",
       "      <th>ST_CASE</th>\n",
       "      <th>VE_TOTAL</th>\n",
       "      <th>VE_FORMS</th>\n",
       "      <th>PVH_INVL</th>\n",
       "      <th>PEDS</th>\n",
       "      <th>PERNOTMVIT</th>\n",
       "      <th>PERMVIT</th>\n",
       "      <th>PERSONS</th>\n",
       "      <th>COUNTY</th>\n",
       "      <th>...</th>\n",
       "      <th>RELJCT1</th>\n",
       "      <th>RELJCT2</th>\n",
       "      <th>TYP_INT</th>\n",
       "      <th>WRK_ZONE</th>\n",
       "      <th>REL_ROAD</th>\n",
       "      <th>LGT_COND</th>\n",
       "      <th>WEATHER</th>\n",
       "      <th>FATALS</th>\n",
       "      <th>DRUNK_DR</th>\n",
       "      <th>DATETIME</th>\n",
       "    </tr>\n",
       "  </thead>\n",
       "  <tbody>\n",
       "    <tr>\n",
       "      <th>0</th>\n",
       "      <td>1</td>\n",
       "      <td>10001</td>\n",
       "      <td>1</td>\n",
       "      <td>1</td>\n",
       "      <td>0</td>\n",
       "      <td>0</td>\n",
       "      <td>0</td>\n",
       "      <td>1</td>\n",
       "      <td>1</td>\n",
       "      <td>127.0</td>\n",
       "      <td>...</td>\n",
       "      <td>0.0</td>\n",
       "      <td>1.0</td>\n",
       "      <td>1.0</td>\n",
       "      <td>0</td>\n",
       "      <td>4.0</td>\n",
       "      <td>2.0</td>\n",
       "      <td>1.0</td>\n",
       "      <td>1</td>\n",
       "      <td>1</td>\n",
       "      <td>2015-01-01</td>\n",
       "    </tr>\n",
       "    <tr>\n",
       "      <th>1</th>\n",
       "      <td>1</td>\n",
       "      <td>10002</td>\n",
       "      <td>1</td>\n",
       "      <td>1</td>\n",
       "      <td>0</td>\n",
       "      <td>0</td>\n",
       "      <td>0</td>\n",
       "      <td>1</td>\n",
       "      <td>1</td>\n",
       "      <td>83.0</td>\n",
       "      <td>...</td>\n",
       "      <td>0.0</td>\n",
       "      <td>1.0</td>\n",
       "      <td>1.0</td>\n",
       "      <td>0</td>\n",
       "      <td>3.0</td>\n",
       "      <td>2.0</td>\n",
       "      <td>10.0</td>\n",
       "      <td>1</td>\n",
       "      <td>0</td>\n",
       "      <td>2015-01-01</td>\n",
       "    </tr>\n",
       "    <tr>\n",
       "      <th>2</th>\n",
       "      <td>1</td>\n",
       "      <td>10003</td>\n",
       "      <td>1</td>\n",
       "      <td>1</td>\n",
       "      <td>0</td>\n",
       "      <td>0</td>\n",
       "      <td>0</td>\n",
       "      <td>2</td>\n",
       "      <td>2</td>\n",
       "      <td>11.0</td>\n",
       "      <td>...</td>\n",
       "      <td>0.0</td>\n",
       "      <td>1.0</td>\n",
       "      <td>1.0</td>\n",
       "      <td>0</td>\n",
       "      <td>4.0</td>\n",
       "      <td>2.0</td>\n",
       "      <td>1.0</td>\n",
       "      <td>1</td>\n",
       "      <td>1</td>\n",
       "      <td>2015-01-01</td>\n",
       "    </tr>\n",
       "    <tr>\n",
       "      <th>3</th>\n",
       "      <td>1</td>\n",
       "      <td>10004</td>\n",
       "      <td>1</td>\n",
       "      <td>1</td>\n",
       "      <td>0</td>\n",
       "      <td>0</td>\n",
       "      <td>0</td>\n",
       "      <td>1</td>\n",
       "      <td>1</td>\n",
       "      <td>45.0</td>\n",
       "      <td>...</td>\n",
       "      <td>0.0</td>\n",
       "      <td>1.0</td>\n",
       "      <td>1.0</td>\n",
       "      <td>0</td>\n",
       "      <td>4.0</td>\n",
       "      <td>2.0</td>\n",
       "      <td>10.0</td>\n",
       "      <td>1</td>\n",
       "      <td>1</td>\n",
       "      <td>2015-01-04</td>\n",
       "    </tr>\n",
       "    <tr>\n",
       "      <th>4</th>\n",
       "      <td>1</td>\n",
       "      <td>10005</td>\n",
       "      <td>2</td>\n",
       "      <td>2</td>\n",
       "      <td>0</td>\n",
       "      <td>0</td>\n",
       "      <td>0</td>\n",
       "      <td>2</td>\n",
       "      <td>2</td>\n",
       "      <td>45.0</td>\n",
       "      <td>...</td>\n",
       "      <td>0.0</td>\n",
       "      <td>2.0</td>\n",
       "      <td>3.0</td>\n",
       "      <td>0</td>\n",
       "      <td>1.0</td>\n",
       "      <td>1.0</td>\n",
       "      <td>1.0</td>\n",
       "      <td>1</td>\n",
       "      <td>0</td>\n",
       "      <td>2015-01-07</td>\n",
       "    </tr>\n",
       "  </tbody>\n",
       "</table>\n",
       "<p>5 rows × 33 columns</p>\n",
       "</div>"
      ],
      "text/plain": [
       "   STATE  ST_CASE  VE_TOTAL  VE_FORMS  PVH_INVL  PEDS  PERNOTMVIT  PERMVIT  \\\n",
       "0      1    10001         1         1         0     0           0        1   \n",
       "1      1    10002         1         1         0     0           0        1   \n",
       "2      1    10003         1         1         0     0           0        2   \n",
       "3      1    10004         1         1         0     0           0        1   \n",
       "4      1    10005         2         2         0     0           0        2   \n",
       "\n",
       "   PERSONS  COUNTY  ...  RELJCT1  RELJCT2  TYP_INT  WRK_ZONE  REL_ROAD  \\\n",
       "0        1   127.0  ...      0.0      1.0      1.0         0       4.0   \n",
       "1        1    83.0  ...      0.0      1.0      1.0         0       3.0   \n",
       "2        2    11.0  ...      0.0      1.0      1.0         0       4.0   \n",
       "3        1    45.0  ...      0.0      1.0      1.0         0       4.0   \n",
       "4        2    45.0  ...      0.0      2.0      3.0         0       1.0   \n",
       "\n",
       "   LGT_COND  WEATHER FATALS  DRUNK_DR   DATETIME  \n",
       "0       2.0      1.0      1         1 2015-01-01  \n",
       "1       2.0     10.0      1         0 2015-01-01  \n",
       "2       2.0      1.0      1         1 2015-01-01  \n",
       "3       2.0     10.0      1         1 2015-01-04  \n",
       "4       1.0      1.0      1         0 2015-01-07  \n",
       "\n",
       "[5 rows x 33 columns]"
      ]
     },
     "execution_count": 2,
     "metadata": {},
     "output_type": "execute_result"
    }
   ],
   "source": [
    "df_accident = pd.read_excel('Data/accident_clean.xlsx')\n",
    "df_accident.head()"
   ]
  },
  {
   "cell_type": "code",
   "execution_count": 3,
   "metadata": {
    "scrolled": true
   },
   "outputs": [
    {
     "name": "stdout",
     "output_type": "stream",
     "text": [
      "The number of rows is        30828\n",
      "The number of attributes is  33\n"
     ]
    }
   ],
   "source": [
    "print ('The number of rows is       ', df_accident.shape[0])\n",
    "print ('The number of attributes is ', df_accident.shape[1])"
   ]
  },
  {
   "cell_type": "markdown",
   "metadata": {},
   "source": [
    "Some of the attributes from the dataframe called \"df_accident\" as shown in the previous cell using .info( ) need to be coerced from their current type to an object because due to their nature, which will be explained in the next paragraph they will be used just as a reference but do not have any impact in the analysis.\n",
    "Those attributes are:\n",
    "\n",
    "- **ST_CASE** *--which appears continuous (int64) but refers to a unique identifier for each report of an accident;*\n",
    "- **DAY_WEEK** *--which also appears as continuous, should be a discrete variable with values ranging from 1 (Sunday) to 7 (Saturday) that identifies the day of the week in which a particular accident took place;*\n",
    "- **HOUR** *-- which also appears as continuous, we decided that since we couldn't correctly coerce it into an appropriate time format, it could be helpful as an object with values ranging from 0 to 23 as a reference in case we would need it;*\n",
    "- **COUNTY** *--which appears as a float (float64), represents the identifying codes of each of the counties where an accident took place, therefore it could be more useful as an object. *\n",
    "\n",
    "In the next cell, the aforementioned attributes are coerced, as previously mentioned, from their current types to objects. We haven't yet decided at this point if they are worth keeping for this project or not. "
   ]
  },
  {
   "cell_type": "code",
   "execution_count": 4,
   "metadata": {},
   "outputs": [],
   "source": [
    "# Coerce ST_CASE, COUNTY, DAY_WEEK, HOUR from dtype int64 to object as the values are not numbers but strings\n",
    "df_accident[['STATE', 'ST_CASE', 'COUNTY', 'DAY_WEEK', 'HOUR']] = df_accident[['STATE', 'ST_CASE', 'COUNTY', 'DAY_WEEK', 'HOUR']].astype(object)"
   ]
  },
  {
   "cell_type": "markdown",
   "metadata": {},
   "source": [
    "Based on the previous knowledge--from Project1--we have on the data set, in which missing values were present only in those categorical attributes, will be wise to corroborate that no missing values are present in those continuous variables such as VE_TOTAL, VE_FORMS, PVH_INVL, PEDS, PERNOTMVIT, PERSONS, TWAY_ID, LATITUDE, LONGITUDE, FATALS, DRUNK_DR. "
   ]
  },
  {
   "cell_type": "code",
   "execution_count": 5,
   "metadata": {
    "scrolled": true
   },
   "outputs": [
    {
     "data": {
      "text/plain": [
       "STATE         False\n",
       "ST_CASE       False\n",
       "VE_TOTAL      False\n",
       "VE_FORMS      False\n",
       "PVH_INVL      False\n",
       "PEDS          False\n",
       "PERNOTMVIT    False\n",
       "PERMVIT       False\n",
       "PERSONS       False\n",
       "COUNTY         True\n",
       "DAY_WEEK      False\n",
       "HOUR           True\n",
       "NHS            True\n",
       "RUR_URB        True\n",
       "FUNC_SYS       True\n",
       "RD_OWNER       True\n",
       "ROUTE          True\n",
       "TWAY_ID       False\n",
       "LATITUDE       True\n",
       "LONGITUD       True\n",
       "SP_JUR         True\n",
       "HARM_EV        True\n",
       "MAN_COLL       True\n",
       "RELJCT1        True\n",
       "RELJCT2        True\n",
       "TYP_INT        True\n",
       "WRK_ZONE      False\n",
       "REL_ROAD       True\n",
       "LGT_COND       True\n",
       "WEATHER        True\n",
       "FATALS        False\n",
       "DRUNK_DR      False\n",
       "DATETIME      False\n",
       "dtype: bool"
      ]
     },
     "execution_count": 5,
     "metadata": {},
     "output_type": "execute_result"
    }
   ],
   "source": [
    "# Check for missing values, we expect those to be in the categorical variables but not the continuous ones\n",
    "df_accident.isnull().any()"
   ]
  },
  {
   "cell_type": "markdown",
   "metadata": {},
   "source": [
    "Judging from the results provided in the above cell, our recollection about the original data was right on track: no continuous variables have missing values, but most of categorical variables, except for WRK_ZONE do contain NaNs.\n",
    "\n",
    "Since according to <a href=\"https://pandas.pydata.org/pandas-docs/stable/missing_data.html\">Pandas documentation</a> for missing values, Pandas treats NaNs as zero and we don't know the reason why those values are missing whether because they are really missing, their value should be zero or they were just wrongly recorded, we decided that the best route of action was to get rid of them. It is important to mention that the decision was also influenced by the fact that some of those categorical attributes are binary or have several levels, therefore it would be arbitrary to convert missing values to 0 or any other value. \n",
    "\n",
    "So in the following two cells, we will get rid of missing values from the whole data set, and then check that the missing values are in fact out. \n",
    "\n",
    "Now, remember that missing values are present only on categorical variables, therefore imputation cannot be performed."
   ]
  },
  {
   "cell_type": "code",
   "execution_count": 6,
   "metadata": {},
   "outputs": [],
   "source": [
    "# Drop missing values from data set\n",
    "df_accident.dropna(inplace = True)"
   ]
  },
  {
   "cell_type": "code",
   "execution_count": 7,
   "metadata": {
    "scrolled": true
   },
   "outputs": [
    {
     "data": {
      "text/plain": [
       "STATE         False\n",
       "ST_CASE       False\n",
       "VE_TOTAL      False\n",
       "VE_FORMS      False\n",
       "PVH_INVL      False\n",
       "PEDS          False\n",
       "PERNOTMVIT    False\n",
       "PERMVIT       False\n",
       "PERSONS       False\n",
       "COUNTY        False\n",
       "DAY_WEEK      False\n",
       "HOUR          False\n",
       "NHS           False\n",
       "RUR_URB       False\n",
       "FUNC_SYS      False\n",
       "RD_OWNER      False\n",
       "ROUTE         False\n",
       "TWAY_ID       False\n",
       "LATITUDE      False\n",
       "LONGITUD      False\n",
       "SP_JUR        False\n",
       "HARM_EV       False\n",
       "MAN_COLL      False\n",
       "RELJCT1       False\n",
       "RELJCT2       False\n",
       "TYP_INT       False\n",
       "WRK_ZONE      False\n",
       "REL_ROAD      False\n",
       "LGT_COND      False\n",
       "WEATHER       False\n",
       "FATALS        False\n",
       "DRUNK_DR      False\n",
       "DATETIME      False\n",
       "dtype: bool"
      ]
     },
     "execution_count": 7,
     "metadata": {},
     "output_type": "execute_result"
    }
   ],
   "source": [
    "# Check that missing values are in fact gone\n",
    "df_accident.isnull().any()"
   ]
  },
  {
   "cell_type": "markdown",
   "metadata": {},
   "source": [
    "The number of missing values eliminated was 9034, which accounts for about 1/3 of the data. "
   ]
  },
  {
   "cell_type": "code",
   "execution_count": 8,
   "metadata": {
    "scrolled": true
   },
   "outputs": [
    {
     "name": "stdout",
     "output_type": "stream",
     "text": [
      "The number of rows is        21794\n",
      "The number of attributes is  33\n"
     ]
    }
   ],
   "source": [
    "print ('The number of rows is       ', df_accident.shape[0])\n",
    "print ('The number of attributes is ', df_accident.shape[1])"
   ]
  },
  {
   "cell_type": "markdown",
   "metadata": {},
   "source": [
    "The **STATE** attribute, which is a categorical, contained 56 levels (from 1 to 56): each one representing a state plus territories such as: \n",
    "- *American Samoa*\n",
    "- *D.C*\n",
    "- *Guam*\n",
    "- *Puerto Rico*\n",
    "- *Virgin Islands*\n",
    "\n",
    "We decided to keep our analysis within the continental USA, including Hawaii and Alaska, and deleting those observations related to the rest of the aforementioned territories. "
   ]
  },
  {
   "cell_type": "code",
   "execution_count": 9,
   "metadata": {},
   "outputs": [],
   "source": [
    "# STATE attribute has 56 values, since it includes American Samoa, Puerto Rico, Guam, D.C. and the Virgin Islands. \n",
    "# In this data set we'll focus on only continental USA including Alaska and Hawaii.\n",
    "df_accident = df_accident[df_accident.STATE != 3] # Delete rows that pertain to American Samoa\n",
    "df_accident = df_accident[df_accident.STATE != 11] # Delete rows that pertian to D.C.\n",
    "df_accident = df_accident[df_accident.STATE != 14] # Delete rows that contain Guam\n",
    "df_accident = df_accident[df_accident.STATE != 43] # Delete rows that pertain to Puerto Rico\n",
    "df_accident = df_accident[df_accident.STATE != 52] # Delete rows that pertain to Virgin Islands"
   ]
  },
  {
   "cell_type": "markdown",
   "metadata": {},
   "source": [
    "For an unknown reason, the index of the whole data set was set to start at 0 as opposed to 1, so it was necessary for our own understanding to switch it back to starting at 1. "
   ]
  },
  {
   "cell_type": "code",
   "execution_count": 10,
   "metadata": {},
   "outputs": [],
   "source": [
    "#change index to start at 1 not 0\n",
    "df_accident.index = np.arange(1, len(df_accident)+1)"
   ]
  },
  {
   "cell_type": "markdown",
   "metadata": {},
   "source": [
    "Deleting the territories slightly reduced the number of observation in our data set from 21794 to 21773. Only 21 instances were removed. The fact that so few instances were removed indicated that deleting the territories from the dataframe was a good choice because they were not representative of the data. "
   ]
  },
  {
   "cell_type": "code",
   "execution_count": 11,
   "metadata": {},
   "outputs": [
    {
     "name": "stdout",
     "output_type": "stream",
     "text": [
      "The number of rows is        21773\n",
      "The number of attributes is  33\n"
     ]
    }
   ],
   "source": [
    "print ('The number of rows is       ', df_accident.shape[0])\n",
    "print ('The number of attributes is ', df_accident.shape[1])"
   ]
  },
  {
   "cell_type": "markdown",
   "metadata": {},
   "source": [
    "Considering that **STATE** attribute still contains 51 levels, turning it into a dummy variable will unnecesarily complicate its interpretation. Therefore, instead we decided to create a new attribute named **REGION** that will separate the values from **STATE** into four regions: West (1), Midwest (2), South (3) and Northeast (4), following how they are divided in <a href=\"https://en.wikipedia.org/wiki/List_of_regions_of_the_United_States\">Wikipedia.</a>\n",
    "This way we can still use **STATE** as a reference or include it in other analysis later on, whereas interpreting **REGION** will not turn out to be a complicated task, and will enable us to discover and create new relationships. "
   ]
  },
  {
   "cell_type": "code",
   "execution_count": 12,
   "metadata": {},
   "outputs": [],
   "source": [
    "# We decided to create a REGION attribute considering that the STATE attribute had 49 levels, which we will use only\n",
    "# as a reference, whereas REGION can allow us to interpret, discover and create new relationships. \n",
    "# We decided to group states in only four regions: West (1), Midwest (2), South (3) and Northeast (4), as it is done in\n",
    "# https://en.wikipedia.org/wiki/List_of_regions_of_the_United_States. \n",
    "df_accident['REGION'] = 0\n",
    "# Add states according to the region where they belong:\n",
    "df_accident['REGION'][df_accident['STATE'] == 1] = 3\n",
    "df_accident['REGION'][df_accident['STATE'] == 2] = 1\n",
    "df_accident['REGION'][df_accident['STATE'] == 4] = 1\n",
    "df_accident['REGION'][df_accident['STATE'] == 5] = 3\n",
    "df_accident['REGION'][df_accident['STATE'] == 6] = 1\n",
    "df_accident['REGION'][df_accident['STATE'] == 8] = 1\n",
    "df_accident['REGION'][df_accident['STATE'] == 9] = 4\n",
    "df_accident['REGION'][df_accident['STATE'] == 10] = 4\n",
    "df_accident['REGION'][df_accident['STATE'] == 12] = 3\n",
    "df_accident['REGION'][df_accident['STATE'] == 13] = 3\n",
    "df_accident['REGION'][df_accident['STATE'] == 15] = 1\n",
    "df_accident['REGION'][df_accident['STATE'] == 16] = 1\n",
    "df_accident['REGION'][df_accident['STATE'] == 17] = 2\n",
    "df_accident['REGION'][df_accident['STATE'] == 18] = 2\n",
    "df_accident['REGION'][df_accident['STATE'] == 19] = 2\n",
    "df_accident['REGION'][df_accident['STATE'] == 20] = 2\n",
    "df_accident['REGION'][df_accident['STATE'] == 21] = 3\n",
    "df_accident['REGION'][df_accident['STATE'] == 22] = 3\n",
    "df_accident['REGION'][df_accident['STATE'] == 23] = 4\n",
    "df_accident['REGION'][df_accident['STATE'] == 24] = 3\n",
    "df_accident['REGION'][df_accident['STATE'] == 25] = 4\n",
    "df_accident['REGION'][df_accident['STATE'] == 26] = 4\n",
    "df_accident['REGION'][df_accident['STATE'] == 27] = 4\n",
    "df_accident['REGION'][df_accident['STATE'] == 28] = 3\n",
    "df_accident['REGION'][df_accident['STATE'] == 29] = 4\n",
    "df_accident['REGION'][df_accident['STATE'] == 30] = 1\n",
    "df_accident['REGION'][df_accident['STATE'] == 31] = 4\n",
    "df_accident['REGION'][df_accident['STATE'] == 32] = 1\n",
    "df_accident['REGION'][df_accident['STATE'] == 33] = 4\n",
    "df_accident['REGION'][df_accident['STATE'] == 34] = 4\n",
    "df_accident['REGION'][df_accident['STATE'] == 35] = 1\n",
    "df_accident['REGION'][df_accident['STATE'] == 36] = 4\n",
    "df_accident['REGION'][df_accident['STATE'] == 37] = 3\n",
    "df_accident['REGION'][df_accident['STATE'] == 38] = 2\n",
    "df_accident['REGION'][df_accident['STATE'] == 39] = 2\n",
    "df_accident['REGION'][df_accident['STATE'] == 40] = 3\n",
    "df_accident['REGION'][df_accident['STATE'] == 41] = 1\n",
    "df_accident['REGION'][df_accident['STATE'] == 42] = 4\n",
    "df_accident['REGION'][df_accident['STATE'] == 44] = 4\n",
    "df_accident['REGION'][df_accident['STATE'] == 45] = 3\n",
    "df_accident['REGION'][df_accident['STATE'] == 46] = 2\n",
    "df_accident['REGION'][df_accident['STATE'] == 47] = 3\n",
    "df_accident['REGION'][df_accident['STATE'] == 48] = 3\n",
    "df_accident['REGION'][df_accident['STATE'] == 49] = 1\n",
    "df_accident['REGION'][df_accident['STATE'] == 50] = 4\n",
    "df_accident['REGION'][df_accident['STATE'] == 51] = 3\n",
    "df_accident['REGION'][df_accident['STATE'] == 53] = 1\n",
    "df_accident['REGION'][df_accident['STATE'] == 54] = 3\n",
    "df_accident['REGION'][df_accident['STATE'] == 55] = 2\n",
    "df_accident['REGION'][df_accident['STATE'] == 56] = 1\n"
   ]
  },
  {
   "cell_type": "markdown",
   "metadata": {},
   "source": [
    "It is imperative to corroborate that the new attribute **REGION** was created and it has the correct levels. The number of attributes after creating **REGION** should be 34. The levels of **REGION** should range from 1-4."
   ]
  },
  {
   "cell_type": "code",
   "execution_count": 13,
   "metadata": {
    "scrolled": false
   },
   "outputs": [
    {
     "data": {
      "text/plain": [
       "3    9746\n",
       "4    4454\n",
       "2    3951\n",
       "1    3622\n",
       "Name: REGION, dtype: int64"
      ]
     },
     "execution_count": 13,
     "metadata": {},
     "output_type": "execute_result"
    }
   ],
   "source": [
    "df_accident.REGION.value_counts()"
   ]
  },
  {
   "cell_type": "code",
   "execution_count": 14,
   "metadata": {},
   "outputs": [
    {
     "name": "stdout",
     "output_type": "stream",
     "text": [
      "The number of rows is        21773\n",
      "The number of attributes is  34\n"
     ]
    }
   ],
   "source": [
    "print ('The number of rows is       ', df_accident.shape[0])\n",
    "print ('The number of attributes is ', df_accident.shape[1])"
   ]
  },
  {
   "cell_type": "markdown",
   "metadata": {},
   "source": [
    "We will use one-hot encoding to turn categorical variables with several levels to dummies. This will not affect binary ones, but we expect a dramatic increase in the number of attributes considering that some of those categoricals have more than 20 levels. "
   ]
  },
  {
   "cell_type": "code",
   "execution_count": 15,
   "metadata": {},
   "outputs": [],
   "source": [
    "# Turn categorical variables into dummy ones. \n",
    "# Create dummy variable from RUR_URB attribute\n",
    "rur_df = pd.get_dummies(df_accident.RUR_URB,prefix='RUR_URB')\n",
    "df_accident = pd.concat((df_accident, rur_df), axis =1)"
   ]
  },
  {
   "cell_type": "code",
   "execution_count": 16,
   "metadata": {},
   "outputs": [],
   "source": [
    "# Create dummy variable from FUNC_SYS attribute\n",
    "func_df = pd.get_dummies(df_accident.FUNC_SYS,prefix='FUNC_SYS')\n",
    "df_accident = pd.concat((df_accident, func_df), axis =1)"
   ]
  },
  {
   "cell_type": "code",
   "execution_count": 17,
   "metadata": {},
   "outputs": [],
   "source": [
    "# Create dummy variable from RD_OWNER attribute\n",
    "rdowner_df = pd.get_dummies(df_accident.RD_OWNER,prefix='RD_OWNER')\n",
    "df_accident = pd.concat((df_accident, rdowner_df), axis =1)"
   ]
  },
  {
   "cell_type": "code",
   "execution_count": 18,
   "metadata": {},
   "outputs": [],
   "source": [
    "# Create dummy variable from ROUTE attribute\n",
    "route_df = pd.get_dummies(df_accident.ROUTE,prefix='ROUTE')\n",
    "df_accident = pd.concat((df_accident, route_df), axis =1)"
   ]
  },
  {
   "cell_type": "code",
   "execution_count": 19,
   "metadata": {},
   "outputs": [],
   "source": [
    "# Create dummy variable from SP_JUR attribute\n",
    "spjur_df = pd.get_dummies(df_accident.SP_JUR,prefix='SP_JUR')\n",
    "df_accident = pd.concat((df_accident, spjur_df), axis =1)"
   ]
  },
  {
   "cell_type": "code",
   "execution_count": 20,
   "metadata": {},
   "outputs": [],
   "source": [
    "# Create dummy variable from HARM_EV attribute\n",
    "harm_df = pd.get_dummies(df_accident.HARM_EV,prefix='HARM_EV')\n",
    "df_accident = pd.concat((df_accident, harm_df), axis =1)"
   ]
  },
  {
   "cell_type": "code",
   "execution_count": 21,
   "metadata": {},
   "outputs": [],
   "source": [
    "# Create dummy variable from RELJCT2 attribute\n",
    "reljct_df = pd.get_dummies(df_accident.RELJCT2,prefix='RELJCT2')\n",
    "df_accident = pd.concat((df_accident, reljct_df), axis =1)"
   ]
  },
  {
   "cell_type": "code",
   "execution_count": 22,
   "metadata": {},
   "outputs": [],
   "source": [
    "# Create dummy variable from TYP_INT attribute\n",
    "typint_df = pd.get_dummies(df_accident.TYP_INT,prefix='TYP_INT')\n",
    "df_accident = pd.concat((df_accident, typint_df), axis =1)"
   ]
  },
  {
   "cell_type": "code",
   "execution_count": 23,
   "metadata": {},
   "outputs": [],
   "source": [
    "# Create dummy variable from WRK_ZONE attribute\n",
    "wrk_df = pd.get_dummies(df_accident.WRK_ZONE,prefix='WRK_ZONE')\n",
    "df_accident = pd.concat((df_accident, wrk_df), axis =1)"
   ]
  },
  {
   "cell_type": "code",
   "execution_count": 24,
   "metadata": {},
   "outputs": [],
   "source": [
    "# Create dummy variable from REL_ROAD attribute\n",
    "relrd_df = pd.get_dummies(df_accident.REL_ROAD,prefix='REL_ROAD')\n",
    "df_accident = pd.concat((df_accident, relrd_df), axis =1)"
   ]
  },
  {
   "cell_type": "code",
   "execution_count": 25,
   "metadata": {},
   "outputs": [],
   "source": [
    "# Create dummy variable from LGT_COND attribute\n",
    "lgt_df = pd.get_dummies(df_accident.LGT_COND,prefix='LGT_COND')\n",
    "df_accident = pd.concat((df_accident, lgt_df), axis =1)"
   ]
  },
  {
   "cell_type": "code",
   "execution_count": 26,
   "metadata": {},
   "outputs": [],
   "source": [
    "# Create dummy variable from WEATHER attribute\n",
    "wtr_df = pd.get_dummies(df_accident.WEATHER,prefix='WEATHER')\n",
    "df_accident = pd.concat((df_accident, wtr_df), axis =1)"
   ]
  },
  {
   "cell_type": "code",
   "execution_count": 27,
   "metadata": {},
   "outputs": [],
   "source": [
    "# Create dummy variable from REGION attribute\n",
    "region_df = pd.get_dummies(df_accident.REGION,prefix='REGION')\n",
    "df_accident = pd.concat((df_accident, region_df), axis =1)"
   ]
  },
  {
   "cell_type": "code",
   "execution_count": 28,
   "metadata": {},
   "outputs": [],
   "source": [
    "# Create dummy variable from DAY_WEEK attribute\n",
    "wk_df = pd.get_dummies(df_accident.DAY_WEEK,prefix='DAY_WEEK')\n",
    "df_accident = pd.concat((df_accident, wk_df), axis =1)"
   ]
  },
  {
   "cell_type": "markdown",
   "metadata": {},
   "source": [
    "After the one-hot encoding of the above attributes, we delete those variables from which they were derived. "
   ]
  },
  {
   "cell_type": "code",
   "execution_count": 29,
   "metadata": {},
   "outputs": [],
   "source": [
    "# To clean df_accident, drop those attributes from which the dummy variables were derived\n",
    "\n",
    "if 'RUR_URB' in df_accident:\n",
    "    del df_accident['RUR_URB'] \n",
    "    \n",
    "if 'FUNC_SYS' in df_accident:\n",
    "    del df_accident['FUNC_SYS'] \n",
    "    \n",
    "if 'RD_OWNER' in df_accident:\n",
    "    del df_accident['RD_OWNER'] \n",
    "    \n",
    "if 'ROUTE' in df_accident:\n",
    "    del df_accident['ROUTE'] \n",
    "    \n",
    "if 'SP_JUR' in df_accident:\n",
    "    del df_accident['SP_JUR'] \n",
    "    \n",
    "if 'HARM_EV' in df_accident:\n",
    "    del df_accident['HARM_EV'] \n",
    "    \n",
    "if 'RELJCT2' in df_accident:\n",
    "    del df_accident['RELJCT2'] \n",
    "    \n",
    "if 'TYP_INT' in df_accident:\n",
    "    del df_accident['TYP_INT'] \n",
    "    \n",
    "if 'WRK_ZONE' in df_accident:\n",
    "    del df_accident['WRK_ZONE'] \n",
    "    \n",
    "if 'REL_ROAD' in df_accident:\n",
    "    del df_accident['REL_ROAD'] \n",
    "    \n",
    "if 'LGT_COND' in df_accident:\n",
    "    del df_accident['LGT_COND'] \n",
    "    \n",
    "if 'WEATHER' in df_accident:\n",
    "    del df_accident['WEATHER'] \n",
    "    \n",
    "if 'REGION' in df_accident:\n",
    "    del df_accident['REGION']\n",
    "\n",
    "if 'DAY_WEEK' in df_accident:\n",
    "    del df_accident['DAY_WEEK']"
   ]
  },
  {
   "cell_type": "markdown",
   "metadata": {},
   "source": [
    "As it was expected, the number of attributes rose from 34 to 171. The one-hot encoding added 137 attributes to the dataframe \"df_accident\". "
   ]
  },
  {
   "cell_type": "code",
   "execution_count": 30,
   "metadata": {},
   "outputs": [
    {
     "name": "stdout",
     "output_type": "stream",
     "text": [
      "The number of rows is        21773\n",
      "The number of attributes is  171\n"
     ]
    }
   ],
   "source": [
    "print ('The number of rows is       ', df_accident.shape[0])\n",
    "print ('The number of attributes is ', df_accident.shape[1])"
   ]
  },
  {
   "cell_type": "markdown",
   "metadata": {},
   "source": [
    "In order to reduce the number of attributes from the dataframe, we decided to create a new dataframe named \"df_arranged\", which will not contain those attributes that we had converted into objects or that will be only used as reference due to the fact that they reference fixed values, specific characteristics or unique identifiers that we will not consider for this analysis. \n",
    "\n",
    "We expect the number of attributes from 171 to 166, considering that only five attributes will be dropped. The reduction isn't dramatic but since our response variable **FATALS**--which refers to the number of people death during an accident--is a continuous one, we expect to derive from it a new binary attribute. "
   ]
  },
  {
   "cell_type": "code",
   "execution_count": 31,
   "metadata": {},
   "outputs": [],
   "source": [
    "# Create a dataframe that does not contain attributes which type is object or datetime as those are only used \n",
    "# as references and will not be considered in the analysis because their values reflect specific characteristics \n",
    "# that are not either continuous nor categorical, such as STATE, in which each state is defined instead of its \n",
    "# name by a number but could be helpful later on to stablish relationships. \n",
    "\n",
    "df_arranged = df_accident\n",
    "df_arranged.drop('STATE', axis= 1, inplace =True) # Unique identifier of Sate by number\n",
    "df_arranged.drop('ST_CASE', axis= 1, inplace =True) # Unique identifier of accident report case\n",
    "df_arranged.drop('COUNTY', axis= 1, inplace =True) # Unique identifier of the County where the accident occur\n",
    "df_arranged.drop('DATETIME', axis= 1, inplace =True) \n",
    "df_arranged.drop('TWAY_ID', axis= 1, inplace =True) # Names of the arteries where an accident happened"
   ]
  },
  {
   "cell_type": "code",
   "execution_count": 32,
   "metadata": {},
   "outputs": [
    {
     "name": "stdout",
     "output_type": "stream",
     "text": [
      "The number of rows is        21773\n",
      "The number of attributes is  166\n"
     ]
    }
   ],
   "source": [
    "print ('The number of rows is       ', df_arranged.shape[0])\n",
    "print ('The number of attributes is ', df_arranged.shape[1])"
   ]
  },
  {
   "cell_type": "markdown",
   "metadata": {},
   "source": [
    "As previously mentioned, a new binary variable that will represent the response variable with values of 0 and 1 need to be created under the name **FATALITIES** since it will be derived from the attribute **FATALS** which is a continuous one, and will be dropped after **FATALITIES** has been created.\n",
    "\n",
    "For this purpose, the new binary attribute **FATALITIES** will be splitted in two values (0 and 1): 0, representing the number of single deaths in an accident, and 1 corresponding to those accidents where multiple deaths occurred. \n",
    "\n",
    "Right after, the attribute **FATALS** from which **FATALITIES** was derived will be deleted from dataframe \"df_arranged\"."
   ]
  },
  {
   "cell_type": "code",
   "execution_count": 33,
   "metadata": {},
   "outputs": [
    {
     "data": {
      "text/plain": [
       "0    20146\n",
       "1     1627\n",
       "Name: FATALITIES, dtype: int64"
      ]
     },
     "execution_count": 33,
     "metadata": {},
     "output_type": "execute_result"
    }
   ],
   "source": [
    "# Since our chosen response variable FATALS is continuous with values ranging from 1-99, transform it into a new binary attribute 'FATALITIES'\n",
    "# Where 0 = single fatality and 1 = multiple fatalities. \n",
    "df_arranged['FATALITIES'] = 0\n",
    "df_arranged['FATALITIES'][df_arranged['FATALS'] == 1] = 0\n",
    "df_arranged['FATALITIES'][df_arranged['FATALS'] > 1] = 1\n",
    "df_arranged['FATALITIES'].value_counts()"
   ]
  },
  {
   "cell_type": "code",
   "execution_count": 34,
   "metadata": {},
   "outputs": [],
   "source": [
    "# delete the original response variable from the dataframe so it won't influence results. \n",
    "if 'FATALS' in df_arranged:\n",
    "    del df_arranged['FATALS'] "
   ]
  },
  {
   "cell_type": "markdown",
   "metadata": {},
   "source": [
    "Next we will divide our dataframe into numpy matrices corresponding to our response variable  **FATALITIES** which will be now labeled as \"y\" and the rest of the data as explanatory \"X\", which will be used to predict. Then, it will be safe to remove the class label  **FATALITIES** from the dataframe \"df_arranged\"."
   ]
  },
  {
   "cell_type": "code",
   "execution_count": 35,
   "metadata": {},
   "outputs": [],
   "source": [
    "from sklearn.model_selection import ShuffleSplit\n",
    "from sklearn.model_selection import StratifiedShuffleSplit\n",
    "\n",
    "# first we define which attribute will be our response one (y), and define which will be the explanatory variables \n",
    "# that will make up our model, and we create matrices of each one. \n",
    "\n",
    "if 'FATALITIES' in df_arranged:\n",
    "    y = df_arranged['FATALITIES'].values\n",
    "    del df_arranged['FATALITIES']\n",
    "    X = df_arranged.values"
   ]
  },
  {
   "cell_type": "markdown",
   "metadata": {},
   "source": [
    "Considering that even after dividing the dataframe into y (response) and X (explanatory), our X still has a considerable dimension of at least 165 attributes (most of them dummy variables which are now binary), a dimension reduction using PCA will be quite useful since binary variables do not represent a problem and it will facilitate a better interpretation of the data and the results from the analysis.\n",
    "\n",
    "Our data does not need to be standardized before running a PCA because all the continuous variables are on the same scale. \n",
    "\n",
    "We first decided to choose only 5 components for this task but (see image below) the results were overwhelming considering that the scree plot for those five components displayed that the first principal component (0) explained 65% of the variance, followed by the second (1) explaining 85%; the third (2) explaining 95%,  the fourth (3) explaining about 98% and the last one (4), a little over 100%. Based on this results seems that the fifth principal component seems to be redundant in relation to the rest. \n",
    "\n",
    "<img src='screeplot_5comp.png'>\n",
    "\n",
    "Therefore, to avoid such situation four components were chosen instead as shown in the next cell. "
   ]
  },
  {
   "cell_type": "code",
   "execution_count": 36,
   "metadata": {},
   "outputs": [
    {
     "data": {
      "text/plain": [
       "array([[ 5.83479250e-01,  4.99597863e-01, -3.63134384e-04, ...,\n",
       "         1.35195022e-03,  3.39335601e-03, -2.84664961e-03],\n",
       "       [ 4.99597863e-01,  5.84347875e-01, -5.05490571e-04, ...,\n",
       "         1.43827286e-03,  3.57073718e-03, -2.98808273e-03],\n",
       "       [-3.63134384e-04, -5.05490571e-04,  8.43868768e-02, ...,\n",
       "        -8.63226394e-05, -1.77381172e-04,  1.41433126e-04],\n",
       "       ...,\n",
       "       [ 1.35195022e-03,  1.43827286e-03, -8.63226394e-05, ...,\n",
       "         8.43004101e-02,  1.13776832e-04, -9.26977806e-05],\n",
       "       [ 3.39335601e-03,  3.57073718e-03, -1.77381172e-04, ...,\n",
       "         1.13776832e-04,  8.44986935e-02, -2.09459616e-04],\n",
       "       [-2.84664961e-03, -2.98808273e-03,  1.41433126e-04, ...,\n",
       "        -9.26977806e-05, -2.09459616e-04,  8.44227448e-02]])"
      ]
     },
     "execution_count": 36,
     "metadata": {},
     "output_type": "execute_result"
    },
    {
     "data": {
      "image/png": "[encoded data removed]",
      "text/plain": [
       "<Figure size 432x288 with 1 Axes>"
      ]
     },
     "metadata": {
      "needs_background": "light"
     },
     "output_type": "display_data"
    }
   ],
   "source": [
    "# Our dataframe is quite big: With 171 attributes and a little over 21,000 observations we need to reduce dimensionality.\n",
    "# For this task, we will use PCA for our explanatory variables, excluding our response variable. \n",
    "# We will use pca.transform to create a new X that contains only 5 principal components, and which will be used in \n",
    "# logistic regression.\n",
    "\n",
    "from sklearn.decomposition import PCA\n",
    "pca = PCA(copy=True, iterated_power='auto', n_components=4, random_state=None,\n",
    "   svd_solver='auto', tol=0.0, whiten=False)\n",
    "pca.fit(X)\n",
    "X = pca.transform(X) # Create a matrix X that contains the  first 5 principal components of the previous X (df_arranged.values)\n",
    "scree_var = np.cumsum(np.round(pca.explained_variance_ratio_, decimals=4)*100)\n",
    "plt.plot(scree_var)\n",
    "plt.title('Scree Plot',fontsize = 18)\n",
    "plt.xlabel('Principal Components', fontsize=14)\n",
    "plt.ylabel('% Variance Explained', fontsize=14)\n",
    "pca.get_covariance() "
   ]
  },
  {
   "cell_type": "markdown",
   "metadata": {},
   "source": [
    "Based on the scree plot, the first principal component (0) explains 67% of the variance, followed by the second (1) explaining 82%; the third (2) explaining 92%, while the fourth (3) explains about 95%. "
   ]
  },
  {
   "cell_type": "markdown",
   "metadata": {},
   "source": [
    "<h3><b> Training and Testing Split</b></h3>\n",
    "\n",
    "After reducing the dimensions of our explanatory variables (X) data into four principal components (X_pca), we will split the data into a training set, containing 80% of the data, and a test set containing the remaining 20%. Since we would like to make sure that the subgroups of data that will be split into training and testing are not only random but proportional.\n",
    "\n",
    "We will choose a cross-validation with 10 folds as it will provide better estimate of the error, and it will helps us determine the predictive power of our model. "
   ]
  },
  {
   "cell_type": "code",
   "execution_count": 37,
   "metadata": {},
   "outputs": [
    {
     "name": "stdout",
     "output_type": "stream",
     "text": [
      "StratifiedShuffleSplit(n_splits=10, random_state=None, test_size=0.2,\n",
      "            train_size=None)\n"
     ]
    }
   ],
   "source": [
    "# Set cross-validation parameters, which is what we will use to determine the predictve power of our model.\n",
    "num_cv_iterations = 10 # we ara choosing 10 folds because it provides the best estimate of error.\n",
    "num_instances = len(y)\n",
    "\n",
    "# Now split data into Training (80%) and Test (20%) data sets\n",
    "\n",
    "cv_object = StratifiedShuffleSplit(n_splits = num_cv_iterations, test_size = 0.2) # we use stratified to make sure that \n",
    "# train and test data contains important information on both\n",
    "\n",
    "print(cv_object)\n",
    "\n"
   ]
  },
  {
   "cell_type": "markdown",
   "metadata": {},
   "source": [
    "<h3><b> Logistic Regression </b></h3>\n",
    "\n",
    "By creating a logistic regression object named \"lr_clf\" we will be able to fit our training data, which will be now strored in new variables: X_train containing our four chosen components as the explanatory variable and y_train containing the response variable, and use the test data, also contained in new variables: X_test (explanatory) and y_test (response), which we will use to predict by creating an object called y_hat.\n",
    "\n",
    "Also, we will use the test response variable y_test and the object y_hat to calculate the accuracy score and the confusion matrices based on the 10 folds that we selected for the cross validation object called cv_object. "
   ]
  },
  {
   "cell_type": "code",
   "execution_count": 38,
   "metadata": {},
   "outputs": [
    {
     "name": "stdout",
     "output_type": "stream",
     "text": [
      "====Iteration 0  ====\n",
      "accuracy 0.9235361653272101\n",
      "confusion matrix\n",
      " [[4022    8]\n",
      " [ 325    0]]\n",
      "====Iteration 1  ====\n",
      "accuracy 0.9242250287026407\n",
      "confusion matrix\n",
      " [[4020   10]\n",
      " [ 320    5]]\n",
      "====Iteration 2  ====\n",
      "accuracy 0.9242250287026407\n",
      "confusion matrix\n",
      " [[4024    6]\n",
      " [ 324    1]]\n",
      "====Iteration 3  ====\n",
      "accuracy 0.9242250287026407\n",
      "confusion matrix\n",
      " [[4025    5]\n",
      " [ 325    0]]\n",
      "====Iteration 4  ====\n",
      "accuracy 0.9242250287026407\n",
      "confusion matrix\n",
      " [[4021    9]\n",
      " [ 321    4]]\n",
      "====Iteration 5  ====\n",
      "accuracy 0.9244546498277841\n",
      "confusion matrix\n",
      " [[4020   10]\n",
      " [ 319    6]]\n",
      "====Iteration 6  ====\n",
      "accuracy 0.9251435132032148\n",
      "confusion matrix\n",
      " [[4026    4]\n",
      " [ 322    3]]\n",
      "====Iteration 7  ====\n",
      "accuracy 0.9242250287026407\n",
      "confusion matrix\n",
      " [[4023    7]\n",
      " [ 323    2]]\n",
      "====Iteration 8  ====\n",
      "accuracy 0.9251435132032148\n",
      "confusion matrix\n",
      " [[4023    7]\n",
      " [ 319    6]]\n",
      "====Iteration 9  ====\n",
      "accuracy 0.9242250287026407\n",
      "confusion matrix\n",
      " [[4023    7]\n",
      " [ 323    2]]\n"
     ]
    }
   ],
   "source": [
    "\n",
    "from sklearn.linear_model import LogisticRegression\n",
    "from sklearn import metrics as mt\n",
    "\n",
    "# Create logistic regrssion object\n",
    "lr_clf = LogisticRegression(penalty='l2', C=1.0, class_weight=None) #We will start with a ost of 1.0 and then compare\n",
    "# with a model with a lower cost later on\n",
    "\n",
    "#We decided to use this code from notebook 04 because it is clear what it does, and how it does it. \n",
    "iter_num=0 \n",
    "for train_indices, test_indices in cv_object.split(X,y): \n",
    "    X_train = X[train_indices]\n",
    "    y_train = y[train_indices]\n",
    "    \n",
    "    X_test = X[test_indices]\n",
    "    y_test = y[test_indices]\n",
    "    \n",
    "    lr_clf.fit(X_train,y_train)  # here we use our train data to fit the logistic regression\n",
    "    y_hat = lr_clf.predict(X_test) # and we use test data to predict\n",
    "\n",
    "    acc = mt.accuracy_score(y_test,y_hat)\n",
    "    conf = mt.confusion_matrix(y_test,y_hat)\n",
    "    print(\"====Iteration\",iter_num,\" ====\")\n",
    "    print(\"accuracy\", acc )\n",
    "    print(\"confusion matrix\\n\",conf)\n",
    "    iter_num+=1\n",
    "    "
   ]
  },
  {
   "cell_type": "markdown",
   "metadata": {
    "collapsed": true
   },
   "source": [
    "The accuracy of the 10 different models ranges from 92.1% - 92.4%, which is to be expected considering that our response variable is unbalanced with 92.5% (20,146 instances) of the data corresponding to class 0 and only 7.5% (1,627 instances) corresponding to class 1. "
   ]
  },
  {
   "cell_type": "markdown",
   "metadata": {},
   "source": [
    "<h3><b> Parameters changed in model </b></h3>"
   ]
  },
  {
   "cell_type": "code",
   "execution_count": 39,
   "metadata": {},
   "outputs": [
    {
     "name": "stdout",
     "output_type": "stream",
     "text": [
      "C=100.00\n",
      "Sparsity with L1 penalty: 0.00%\n",
      "score with L1 penalty: 0.9246\n",
      "Sparsity with L2 penalty: 0.00%\n",
      "score with L2 penalty: 0.9246\n",
      "====Iteration 10  ====\n",
      "accuracy 0.9242250287026407\n",
      "confusion matrix\n",
      " [[4023    7]\n",
      " [ 323    2]]\n",
      "====Iteration 10  ====\n",
      "accuracy 0.9242250287026407\n",
      "confusion matrix\n",
      " [[4023    7]\n",
      " [ 323    2]]\n",
      "C=1.00\n",
      "Sparsity with L1 penalty: 0.00%\n",
      "score with L1 penalty: 0.9246\n",
      "Sparsity with L2 penalty: 0.00%\n",
      "score with L2 penalty: 0.9246\n",
      "====Iteration 10  ====\n",
      "accuracy 0.9242250287026407\n",
      "confusion matrix\n",
      " [[4023    7]\n",
      " [ 323    2]]\n",
      "====Iteration 10  ====\n",
      "accuracy 0.9242250287026407\n",
      "confusion matrix\n",
      " [[4023    7]\n",
      " [ 323    2]]\n",
      "C=0.01\n",
      "Sparsity with L1 penalty: 0.00%\n",
      "score with L1 penalty: 0.9244\n",
      "Sparsity with L2 penalty: 0.00%\n",
      "score with L2 penalty: 0.9245\n",
      "====Iteration 10  ====\n",
      "accuracy 0.9244546498277841\n",
      "confusion matrix\n",
      " [[4024    6]\n",
      " [ 323    2]]\n",
      "====Iteration 10  ====\n",
      "accuracy 0.9244546498277841\n",
      "confusion matrix\n",
      " [[4024    6]\n",
      " [ 323    2]]\n"
     ]
    }
   ],
   "source": [
    "#Set regularization parameter\n",
    "for i, C in enumerate((100, 1, 0.01)):\n",
    "    # turn down tolerance for short training time\n",
    "    clf_l1_LR = LogisticRegression(C=C, penalty='l1', tol=0.01)\n",
    "    clf_l2_LR = LogisticRegression(C=C, penalty='l2', tol=0.01)\n",
    "    clf_l1_LR.fit(X_train,y_train)\n",
    "    clf_l2_LR.fit(X_train,y_train)\n",
    "\n",
    "    coef_l1_LR = clf_l1_LR.coef_.ravel()\n",
    "    coef_l2_LR = clf_l2_LR.coef_.ravel()\n",
    "\n",
    "    # coef_l1_LR contains zeros due to the\n",
    "    # L1 sparsity inducing norm\n",
    "\n",
    "    sparsity_l1_LR = np.mean(coef_l1_LR == 0) * 100\n",
    "    sparsity_l2_LR = np.mean(coef_l2_LR == 0) * 100\n",
    "\n",
    "    print(\"C=%.2f\" % C)\n",
    "    print(\"Sparsity with L1 penalty: %.2f%%\" % sparsity_l1_LR)\n",
    "    print(\"score with L1 penalty: %.4f\" % clf_l1_LR.score(X_train,y_train))\n",
    "    print(\"Sparsity with L2 penalty: %.2f%%\" % sparsity_l2_LR)\n",
    "    print(\"score with L2 penalty: %.4f\" % clf_l2_LR.score(X_train,y_train))\n",
    "    \n",
    "    y_hat_l1 = clf_l1_LR.predict(X_test)\n",
    "    y_hat_l2 = clf_l2_LR.predict(X_test)\n",
    "    \n",
    "    acc = mt.accuracy_score(y_test,y_hat_l1)\n",
    "    conf = mt.confusion_matrix(y_test,y_hat_l1)\n",
    "    print(\"====Iteration\",iter_num,\" ====\")\n",
    "    print(\"accuracy\", acc )\n",
    "    print(\"confusion matrix\\n\",conf)\n",
    "    \n",
    "    acc = mt.accuracy_score(y_test,y_hat_l2)\n",
    "    conf = mt.confusion_matrix(y_test,y_hat_l2)\n",
    "    print(\"====Iteration\",iter_num,\" ====\")\n",
    "    print(\"accuracy\", acc )\n",
    "    print(\"confusion matrix\\n\",conf)"
   ]
  },
  {
   "cell_type": "markdown",
   "metadata": {},
   "source": [
    " ##### Switching to the l2 penalty yields greater sparsity without a reduction in the predicitve power of the model."
   ]
  },
  {
   "cell_type": "code",
   "execution_count": 40,
   "metadata": {},
   "outputs": [
    {
     "data": {
      "application/vnd.jupyter.widget-view+json": {
       "model_id": "629d4457f9af4f25a60c2a5bf6ddd789",
       "version_major": 2,
       "version_minor": 0
      },
      "text/plain": [
       "interactive(children=(FloatSlider(value=2.451, description='cost', max=5.0, min=0.001, step=0.05), Output()), …"
      ]
     },
     "metadata": {},
     "output_type": "display_data"
    },
    {
     "data": {
      "text/plain": [
       "<function __main__.lr_explor(cost)>"
      ]
     },
     "execution_count": 40,
     "metadata": {},
     "output_type": "execute_result"
    }
   ],
   "source": [
    "# here we can change some of the parameters interactively\n",
    "from ipywidgets import widgets as wd\n",
    "from sklearn.model_selection import cross_val_score\n",
    "\n",
    "def lr_explor(cost):\n",
    "    lr_clf = LogisticRegression(penalty='l2', C=cost, class_weight=None) # get object\n",
    "    accuracies = cross_val_score(lr_clf,X,y=y,cv=cv_object) # this also can help with parallelism\n",
    "    print(accuracies)\n",
    "\n",
    "wd.interact(lr_explor,cost=(0.001,5.0,0.05),__manual=True)\n"
   ]
  },
  {
   "cell_type": "markdown",
   "metadata": {},
   "source": [
    "<h3><b> Suppor Vector Machine </b></h3>"
   ]
  },
  {
   "cell_type": "code",
   "execution_count": 41,
   "metadata": {},
   "outputs": [
    {
     "name": "stdout",
     "output_type": "stream",
     "text": [
      "accuracy: 0.9253731343283582\n",
      "[[4030    0]\n",
      " [ 325    0]]\n",
      "(3967, 4)\n",
      "(3967,)\n",
      "[2665 1302]\n"
     ]
    }
   ],
   "source": [
    "# okay, so run through the cross validation loop and set the training and testing variable for one single iteration\n",
    "from sklearn.preprocessing import StandardScaler\n",
    "\n",
    "scl_obj = StandardScaler()\n",
    "scl_obj.fit(X_train)\n",
    "\n",
    "X_train_scaled = scl_obj.transform(X_train) # apply to training\n",
    "X_test_scaled = scl_obj.transform(X_test)\n",
    "\n",
    "from sklearn.svm import SVC\n",
    "\n",
    "# train the model just as before\n",
    "svm_clf = SVC(C=0.5, kernel='rbf', degree=3, gamma='auto') # get object\n",
    "svm_clf.fit(X_train_scaled, y_train)  # train object\n",
    "\n",
    "y_hat = svm_clf.predict(X_test_scaled) # get test set precitions\n",
    "\n",
    "acc = mt.accuracy_score(y_test,y_hat)\n",
    "conf = mt.confusion_matrix(y_test,y_hat)\n",
    "print('accuracy:', acc )\n",
    "print(conf)\n",
    "\n",
    "# look at the support vectors\n",
    "print(svm_clf.support_vectors_.shape)\n",
    "print(svm_clf.support_.shape)\n",
    "print(svm_clf.n_support_ )"
   ]
  },
  {
   "cell_type": "markdown",
   "metadata": {},
   "source": [
    "#### Accuracy not materially improved on our data set."
   ]
  },
  {
   "cell_type": "markdown",
   "metadata": {
    "collapsed": true
   },
   "source": [
    "<h3><b>[10 points]</b>\n",
    "\n",
    "<i>Discuss the advantages of each model for each classification task. Does one type\n",
    "of model offer superior performance over another in terms of prediction accuracy? In terms of\n",
    "training time or efficiency? Explain in detail.</i>\n",
    "\n"
   ]
  },
  {
   "cell_type": "markdown",
   "metadata": {
    "collapsed": true
   },
   "source": [
    "Understanding the differences between theoretical statistical procedures and SVM helps to determine the advantages and disadvantages, and both are dependent on the type of data to be modeled.  Real-world, statistical methods usually rely on scientifically based statistical procedures (Anguita, Ghio, Greco, Oneto, & Ridella).  These methods split the data into a training dataset and a hold-out set.  The training set it used to create a model, while the hold-out set is used for computing the generalization error estimation (Anguita, Et. Al.).  As stable as these practical methods are, they tend to find a separating hyperplane, but not usually an optimal one (Berwick).\n",
    "\n",
    "SVM MLT’s goal is to maximize the margin around the separating hyperplane (Berwick).  The “support vectors are the elements of the training set that would change the position of the dividing hyperplane if removed” (Berlick). In a post on Stack Exchange, Gavin Simpson outlines a few advantages and disadvantages of SVM.  One not so significant advantage he points out is a simple one, that SVM has a “regularization parameter” that assists the user to avoid over-fitting.  He also believes that since it uses the “kernel trick” it can build in expert knowledge about a problem using by engineering the kernel (Simpson).\n",
    "\n",
    "Although, SVM has a learning phase that finds a set of parameters by using quadratic programming, usually the search for the most optimal parameters does not complete and additional tuning must be done (Anguita, Et. Al.).  Using optimization techniques, such as Lagrange multipliers, can aid to get the data into an arrangement that can be solved analytically (Berwick).  Simpson noted one disadvantages is that the SVM theory only covers the “determination of the parameters for a given value of the regularization and kernel parameters and choice of kernel”.\n",
    "\n",
    "There doesn’t seem to be much difference in performance based on the information provided, and we believe it is dependent on the imbalance prevalent on our response variable (y), where the difference in the number of instances between class 0 and class 1 are important considering that class 0 holds about 92.5% of the data. This imbalance definitely influenced the accuracy scores, particularly when there was no cost set for any missclassification of false negatives or positives. Now we know that we could have prevented this by creating a cost matrix in which we can assign lower costs to the true positive, a higher cost to those false negatives, and lower but positive cost to the false positives, and then multiply it by the each of the confusion matrices. That way we could obtain a more reliable and realistic accuracy score regarding the number of people that were reported as dead when they did not die in an accident and vice versa. \n",
    "\n",
    "If we were to base our model decision on the accuracy scores retrieved by either the logistic regression or the SVM, this will be a difficult task because the range of accuracy scores of the logistic regression with 10 fold cross-validation was from 92.1% - 92.4%, while the accuracy retrieved by SVM achieved a 92.5%. There is just 1% difference between the highest end of the range of logistic regression models and SVM, but a 1% could mean a world of difference when it comes to prediction. \n",
    "\n",
    "Now, based on the confusion matrices provided by each of the models, in which SVM returned one where there were no false negatives due to the imbalance of the data which cause a high sensitivity in which no cost was assigned to the false positives, and based on this the logistic regression seem as a more efficient model. \n",
    "\n",
    "\n",
    "In terms of training time and efficiency, SVM seems a much more complicated model because it involves transforming the data and the use of kernels and also because perhaps because we are more familiar with logistic regression which we have seen previously but at the end of the day, if the data is cleaned, and correctly splitted into training and testing sets, both models represent an efficient way to classify data. \n",
    "\n",
    "Although \n",
    "\n",
    "In our case, the dimensionality reduction of the data using PCA represented a challenge regarding the correct interpretation of the data considering that python does not provide a covariance matrix in which we could have detected which attributes had a higher covariance in each of the components.\n",
    "\n",
    "There was more of a difference within the model by choosing one parameter (cost) over another.  We observed that the lower the cost, the higher the accuracy.  This makes sense because C is the “penalty on the slack variables which measure the degree to which the margin constraints are violated” (Chin).  For our data, there wasn’t a significant difference.  It is more beneficial to look within the regression model and fine tune it rather than use SVM.\n",
    "\n",
    "Our data illustrates what Edwin Chin stated on his blog, “better data often beats better algorithms”.  That holds true for our data set which is why both models performed well.   \n",
    "\n",
    "\n",
    "\n",
    "\n",
    "at  Even though the metric of accuracy does not contemplates the cost of missclassifying false negatives and false positives, both the logistic regression models and the SVM returned an accuracy score that is quite similar\n",
    "\n",
    "Resources:\n",
    "\n",
    "Anguita, D., Ghio, A., Greco, N., Oneto, L., & Ridella, S. Model Selection for Support Vector Machines: Advantages and Disadvantages of the Machine Learning Theory.  Smartlab.  http://www.smartlab.ws/files/pubblications/ICP/AngGhiRid_IJCNN10.pdf.  Accessed June 18, 2017.\n",
    "\n",
    "Berwick, R. An idiot’s guide to Support vector machines (SVMs).  Village Idiot.  http://www.svms.org/tutorials/Berwick2003.pdf.  Accessed June 18, 2017\n",
    "\n",
    "Chin, E.  Edwin Chin Blog.  http://blog.echen.me/2011/04/27/choosing-a-machine-learning-classifier.  Accessed June 18, 2017.\n",
    "\n",
    "Simpson, G.  Stack Exchange Blog Post.  May 2, 2014.  https://stats.stackexchange.com/questions/24437/advantages-and-disadvantages-of-svm.  Accessed June 18, 2017.\n",
    "\n",
    "Marsupial, D.  Stack Exchange Blog Discussion.  Cross Validated.  “SVM: Why does the number of support vectors decrease when C is increased?” https://stats.stackexchange.com/questions/270187/svm-why-does-the-number-of-support-vectors-decrease-when-c-is-increased.  Accessed June 18, 2017.\n"
   ]
  },
  {
   "cell_type": "markdown",
   "metadata": {},
   "source": [
    "<h3><b>[30 points]</b>\n",
    "\n",
    "<i>Use the weights from logistic regression to interpret the importance of different\n",
    "features for the classification task. Explain your interpretation in detail. Why do you think\n",
    "some variables are more important?</i></h3>\n",
    "\n",
    "Considering that we reduced the dimensionality of our dataframe \"df_arranged\" using PCA selecting only five principal components that later were used to split data into training and test sets, which in turn were used to pass through the logistic regression object, it seems adequate to calculate the weights of those five components that are now part of the train set (X_train) in order to decide if all of them are worth keeping and if their presence do not cause an overfitting of the model. \n"
   ]
  },
  {
   "cell_type": "code",
   "execution_count": 42,
   "metadata": {
    "scrolled": true
   },
   "outputs": [
    {
     "name": "stdout",
     "output_type": "stream",
     "text": [
      "[-8.00608807  5.89556912 -8.17598513  3.58513468] This principal component from the training data has weight of 0.0049089666647076985\n",
      "[ 5.50823874  1.71304229 -1.11877409  0.81073098] This principal component from the training data has weight of 0.004116373705715731\n",
      "[-17.69560552  -1.16353114   8.16346772  -2.48754767] This principal component from the training data has weight of -0.007776079676704891\n",
      "[33.3455333  10.42105529  4.84169307 -2.62081113] This principal component from the training data has weight of 0.17842679943678327\n"
     ]
    }
   ],
   "source": [
    "# interpret the weights\n",
    "\n",
    "# iterate over the coefficients\n",
    "weights = lr_clf.coef_.T \n",
    "variable_names = X_train\n",
    "for coef, name in zip(weights,variable_names):\n",
    "    print(name, 'This principal component from the training data has weight of', coef[0])\n",
    "    \n"
   ]
  },
  {
   "cell_type": "code",
   "execution_count": 43,
   "metadata": {},
   "outputs": [
    {
     "data": {
      "image/png": "[encoded data removed]",
      "text/plain": [
       "<Figure size 432x288 with 1 Axes>"
      ]
     },
     "metadata": {},
     "output_type": "display_data"
    }
   ],
   "source": [
    "# now let's make a pandas Series with the names and values, and plot them\n",
    "from matplotlib import pyplot as plt\n",
    "%matplotlib inline\n",
    "plt.style.use('ggplot')\n",
    "\n",
    "\n",
    "weights = pd.Series(lr_clf.coef_[0])\n",
    "weights.plot(kind='bar')\n",
    "plt.show()"
   ]
  },
  {
   "cell_type": "markdown",
   "metadata": {},
   "source": [
    "<ul>\n",
    "  <li>The first component identified with the number 0 has a weight of:  0.0650377084484</li>\n",
    "  <li>The second component identified with the number 1 has a weight of: 0.0154477597284</li>\n",
    "  <li>The third component identified with the number 2 has a weight of: -0.00157791612436</li>\n",
    "  <li>The fourth component identified with the number 3 has a weight of: 0.604316844227</li>\n",
    "</ul>\n",
    "\n",
    "The first two components (0 and 1) and the last one (3)--also the \"heaviest\" one with a weight of 0.604316844227--  are positively correlated. The second component has a negative weight of -0.00157791612436 (for that reason it is not displayed on the graph), which makes it the \"lighest\" one and the only one that is negatively correlated to the rest. (It is beyond our understanding why the plot is only showing positive weight values.)\n",
    "\n",
    "\n",
    "Regarding component 0, which array of values is [-5.34418077 -8.09625071 -4.50701903  1.56495696], we can definitely notice that the first three elements are negatively correlated, being -4.50701903 the highest negative loading, while the fourth element possesses the highest positive loading of 1.56495696.\n",
    "\n",
    "For component 1, which array of values is [ 17.45764237  12.41880561   6.60591012   2.22248572], we can see that all of the elements are positively correlated with the first two elements displaying the highest loadings at 17.45764237 and 12.41880561. \n",
    "\n",
    "For component 2, which array of values is [-1.96034614 -7.30178685  5.62585816 -2.64923759], we see something similar to component 0 where three out four elements are negatively correlated, although in this case the highest negative loading is even greater at -2.64923759 than that of component 0, which was of -4.50701903. The highest positive loading is located on the third element with 5.62585816.\n",
    "\n",
    "Finally, for component 3, which array of values is [ 29.2995645    1.41928788   6.18967858  -2.69939921]. Just by looking at the loadings it is easy to understand why this component is the heaviest one not only because three of its elements are positive while only one is negative, but because the first element displays the highest loading of all of the components with a value of 29.2995645. Definitely this first element is responsible for the total weight of the component itself. \n",
    "\n",
    "Although PCA itself standardizes the data, we would like to see if \"normalizing\" the components of the training set creates a change that could be benefitial by scaling the four components to see if the third, and heaviest, could become more similar in its weight to the rest. \n"
   ]
  },
  {
   "cell_type": "code",
   "execution_count": 44,
   "metadata": {
    "scrolled": true
   },
   "outputs": [
    {
     "name": "stdout",
     "output_type": "stream",
     "text": [
      "accuracy: 0.9244546498277841\n",
      "[[4024    6]\n",
      " [ 323    2]]\n",
      "[-8.00608807  5.89556912 -8.17598513  3.58513468] This component has a weight of 0.06414518299453155\n",
      "[ 5.50823874  1.71304229 -1.11877409  0.81073098] This component has a weight of 0.02594082498962831\n",
      "[-17.69560552  -1.16353114   8.16346772  -2.48754767] This component has a weight of -0.037767145263498385\n",
      "[33.3455333  10.42105529  4.84169307 -2.62081113] This component has a weight of 0.5696110529282574\n"
     ]
    }
   ],
   "source": [
    "from sklearn.preprocessing import StandardScaler\n",
    "\n",
    "# Normalization\n",
    "\n",
    "\n",
    "# scale attributes by the training set\n",
    "scl_obj = StandardScaler()\n",
    "scl_obj.fit(X_train) \n",
    "\n",
    "\n",
    "X_train_scaled = scl_obj.transform(X_train) \n",
    "X_test_scaled = scl_obj.transform(X_test) \n",
    "\n",
    "# train the model \n",
    "lr_clf = LogisticRegression(penalty='l2', C=0.05) \n",
    "lr_clf.fit(X_train_scaled,y_train)  \n",
    "\n",
    "# get test set precitions\n",
    "y_hat = lr_clf.predict(X_test_scaled) # get test set precitions\n",
    "\n",
    "acc = mt.accuracy_score(y_test,y_hat)\n",
    "conf = mt.confusion_matrix(y_test,y_hat)\n",
    "print('accuracy:', acc )\n",
    "print(conf )\n",
    "\n",
    "# sort these attributes and display results\n",
    "zip_vars = zip(lr_clf.coef_.T,X_train) \n",
    "for coef, name in zip_vars:\n",
    "    print(name, 'This component has a weight of', coef[0]) "
   ]
  },
  {
   "cell_type": "code",
   "execution_count": 45,
   "metadata": {},
   "outputs": [
    {
     "data": {
      "image/png": "[encoded data removed]",
      "text/plain": [
       "<Figure size 432x288 with 1 Axes>"
      ]
     },
     "metadata": {},
     "output_type": "display_data"
    }
   ],
   "source": [
    "from matplotlib import pyplot as plt\n",
    "%matplotlib inline\n",
    "plt.style.use('ggplot')\n",
    "\n",
    "\n",
    "weights = pd.Series(lr_clf.coef_[0])\n",
    "weights.plot(kind='bar')\n",
    "plt.show()"
   ]
  },
  {
   "cell_type": "markdown",
   "metadata": {},
   "source": [
    "Normalization did not at all affect the weights of any of the components or the values of their loadings. They remained untouched, after which we can conclude that by far component 3 is the strongest of them all. \n",
    "\n",
    "The only component we would eliminate is component 2 not because it is negatively correlated but because at -0.00157791612436 its correlation is not as strong in comparison to the rest. "
   ]
  },
  {
   "cell_type": "markdown",
   "metadata": {},
   "source": [
    "<h3><b>[10 points]</b>\n",
    "\n",
    "<i>Look at the chosen support vectors for the classification task. Do these provide\n",
    "any insight into the data? Explain. If you used stochastic gradient descent (and therefore did\n",
    "not explicitly solve for support vectors), try subsampling your data to train the SVC model—\n",
    "then analyze the support vectors from the subsampled dataset.</i>"
   ]
  },
  {
   "cell_type": "markdown",
   "metadata": {
    "collapsed": true
   },
   "source": [
    "Due to the accuracy of our prediction, and the fact that we didn’t have too large of a data set, we did not feel we needed to use stochastic gradient descent.  In addition, we were not adding data to our training set, but gradient descent could be used if we were. \n",
    "\n",
    "Looking at the output of SVM, we have 3919 support vectors for the five components (which resulted from PCA); 2617 and 1302 in each class.  These support vectors lie on the margin.  A couple of insights we can glean from this information is that our data is linearly separable with a large margin.  \n",
    "\n",
    "(3919, 5)\n",
    "(3919,)\n",
    "[2617 1302]\n"
   ]
  },
  {
   "cell_type": "code",
   "execution_count": null,
   "metadata": {},
   "outputs": [],
   "source": []
  }
 ],
 "metadata": {
  "kernelspec": {
   "display_name": "Python 3",
   "language": "python",
   "name": "python3"
  },
  "language_info": {
   "codemirror_mode": {
    "name": "ipython",
    "version": 3
   },
   "file_extension": ".py",
   "mimetype": "text/x-python",
   "name": "python",
   "nbconvert_exporter": "python",
   "pygments_lexer": "ipython3",
   "version": "3.7.1"
  },
  "widgets": {
   "state": {
    "14da91c4fd54443d8b51e0d68e8c0bd1": {
     "views": [
      {
       "cell_index": 66
      }
     ]
    }
   },
   "version": "1.2.0"
  }
 },
 "nbformat": 4,
 "nbformat_minor": 2
}
